{
 "cells": [
  {
   "cell_type": "code",
   "execution_count": 29,
   "metadata": {},
   "outputs": [],
   "source": [
    "import os\n",
    "import numpy as np\n",
    "import pandas as pd\n",
    "import librosa\n",
    "import sklearn\n",
    "from sklearn.model_selection import train_test_split\n",
    "from sklearn.preprocessing import StandardScaler\n",
    "from sklearn.ensemble import RandomForestClassifier\n",
    "from sklearn.metrics import classification_report\n",
    "import matplotlib.pyplot as plt\n",
    "import torch\n",
    "import torch.nn as nn\n",
    "import torch.optim as optim\n",
    "from torch.utils.data import Dataset, DataLoader\n",
    "from transformers import AutoModelForSequenceClassification, AutoTokenizer, Trainer, TrainingArguments\n",
    "import torch\n",
    "import torch.nn as nn\n",
    "from torchviz import make_dot\n",
    "from torchsummary import summary\n",
    "os.environ['CUDA_LAUNCH_BLOCKING'] = \"1\"\n",
    "os.environ['TORCH_USE_CUDA_DSA'] = \"1\"\n",
    "from torch.utils.data import DataLoader, TensorDataset\n"
   ]
  },
  {
   "cell_type": "code",
   "execution_count": 30,
   "metadata": {},
   "outputs": [
    {
     "name": "stdout",
     "output_type": "stream",
     "text": [
      "Using device: cuda\n"
     ]
    }
   ],
   "source": [
    "device = torch.device(\"cuda\" if torch.cuda.is_available() else \"cpu\")\n",
    "# device = torch.device(\"cpu\")\n",
    "\n",
    "print(\"Using device:\", device)"
   ]
  },
  {
   "cell_type": "code",
   "execution_count": 31,
   "metadata": {},
   "outputs": [],
   "source": [
    "# data_dir=\"C:/Users/divya/OneDrive/Documents/UTAUSTIN/Semester 6/460j/final_project_data/fma_small\"\n",
    "# file_path=\"C:/Users/divya/OneDrive/Documents/UTAUSTIN/Semester 6/460j/final_project_data/fma_small/000/000002.mp3\"\n",
    "#train_path = 'C:/Users/divya/OneDrive/Documents/UTAUSTIN/Semester6/460j/460jFinalProject/csvfiles/extracted_features_combined.csv'\n",
    "train_path = 'C:/Users/divya/OneDrive/Documents/UTAUSTIN/Semester6/460j/460jFinalProject/csvfiles/extracted_features_wav2vec.csv'\n",
    "torch.manual_seed(42)\n",
    "\n",
    "data_df=pd.read_csv(train_path, index_col=0)\n",
    "# data_df=pd.read_csv(train_path)\n"
   ]
  },
  {
   "cell_type": "code",
   "execution_count": 32,
   "metadata": {},
   "outputs": [],
   "source": [
    "import torch\n",
    "from torch import nn\n",
    "from transformers import DistilBertModel, DistilBertConfig\n",
    "from transformers import BertModel, BertConfig\n",
    "\n",
    "# class GenreClassifier(nn.Module):\n",
    "#     def __init__(self, input_dim, num_labels):\n",
    "#         super(GenreClassifier, self).__init__()\n",
    "#         self.bert_config = DistilBertConfig.from_pretrained('distilbert-base-uncased', num_labels=num_labels)\n",
    "#         self.bert = DistilBertModel(self.bert_config)\n",
    "#         self.projection = nn.Linear(input_dim, self.bert.config.dim)\n",
    "#         self.classifier = nn.Linear(self.bert.config.dim, num_labels)\n",
    "#         self.dropout = nn.Dropout(0.1)\n",
    "\n",
    "#     def forward(self, embeddings):\n",
    "#         # Assume embeddings are [batch_size, embedding_dim], add a sequence length of 1\n",
    "#         embeddings = embeddings.unsqueeze(1)  # Reshape to [batch_size, 1, embedding_dim]\n",
    "#         embeddings = self.projection(embeddings)\n",
    "#         outputs = self.bert(inputs_embeds=embeddings)\n",
    "#         cls_output = outputs.last_hidden_state[:, 0, :]  # Use the output of the CLS token\n",
    "#         cls_output = self.dropout(cls_output)\n",
    "#         logits = self.classifier(cls_output)\n",
    "#         return logits\n",
    "\n",
    "class GenreClassifier(nn.Module):\n",
    "    def __init__(self, input_dim, num_labels):\n",
    "        super(GenreClassifier, self).__init__()\n",
    "        self.bert_config = BertConfig.from_pretrained('bert-large-uncased', num_labels=num_labels)\n",
    "        self.bert = BertModel(self.bert_config)\n",
    "        self.projection = nn.Linear(input_dim, self.bert.config.hidden_size)\n",
    "        self.classifier = nn.Linear(self.bert.config.hidden_size, num_labels)\n",
    "        self.dropout = nn.Dropout(0.1)\n",
    "\n",
    "    def forward(self, embeddings):\n",
    "        # Assume embeddings are [batch_size, embedding_dim], add a sequence length of 1\n",
    "        embeddings = embeddings.unsqueeze(1)  # Reshape to [batch_size, 1, embedding_dim]\n",
    "        embeddings = self.projection(embeddings)\n",
    "        outputs = self.bert(inputs_embeds=embeddings)\n",
    "        cls_output = outputs.last_hidden_state[:, 0, :]  # Use the output of the CLS token\n",
    "        cls_output = self.dropout(cls_output)\n",
    "        logits = self.classifier(cls_output)\n",
    "        return logits"
   ]
  },
  {
   "cell_type": "code",
   "execution_count": 33,
   "metadata": {},
   "outputs": [],
   "source": [
    "\n",
    "X = StandardScaler().fit_transform(data_df.drop('genre', axis=1))\n",
    "y = pd.factorize(data_df['genre'])[0]  # Convert genre to numerical labels\n"
   ]
  },
  {
   "cell_type": "code",
   "execution_count": 34,
   "metadata": {},
   "outputs": [],
   "source": [
    "import numpy as np\n",
    "from sklearn.model_selection import train_test_split\n",
    "from torch.utils.data import DataLoader, TensorDataset\n",
    "\n",
    "\n",
    "# Convert arrays to tensors\n",
    "X = torch.tensor(X, dtype=torch.float32)\n",
    "y = torch.tensor(y, dtype=torch.long)\n",
    "\n",
    "# Split the data\n",
    "X_train, X_test, y_train, y_test = train_test_split(X, y, test_size=0.25, random_state=42)\n",
    "\n",
    "# Create Data Loaders\n",
    "train_dataset = TensorDataset(X_train, y_train)\n",
    "test_dataset = TensorDataset(X_test, y_test)\n",
    "train_loader = DataLoader(train_dataset, batch_size=64, shuffle=True)\n",
    "test_loader = DataLoader(test_dataset, batch_size=64, shuffle=False)\n"
   ]
  },
  {
   "cell_type": "code",
   "execution_count": 35,
   "metadata": {},
   "outputs": [],
   "source": [
    "# Initialize the model\n",
    "# Example use in training loop\n",
    "model = GenreClassifier(input_dim=X_train.shape[1], num_labels=len(set(y.numpy())))\n",
    "model.to(device)\n",
    "optimizer = torch.optim.Adam(model.parameters(), lr=5e-5)\n",
    "criterion = nn.CrossEntropyLoss()\n",
    "\n"
   ]
  },
  {
   "cell_type": "code",
   "execution_count": 36,
   "metadata": {},
   "outputs": [],
   "source": [
    "import torch.nn as nn\n",
    "import torch.optim as optim\n",
    "import matplotlib.pyplot as plt\n",
    "\n",
    "def train_model(model, train_loader, test_loader, device, epochs=25,lr=5e-7):\n",
    "    criterion = nn.CrossEntropyLoss()\n",
    "    optimizer = optim.Adam(model.parameters(), lr=lr)\n",
    "    accuracies = []  # List to store accuracy for each epoch\n",
    "    model.to(device)\n",
    "    for epoch in range(epochs):\n",
    "        model.train()\n",
    "        for inputs, labels in train_loader:\n",
    "            inputs, labels = inputs.to(device), labels.to(device)\n",
    "            optimizer.zero_grad()\n",
    "            outputs = model(inputs)\n",
    "            loss = criterion(outputs, labels)\n",
    "            loss.backward()\n",
    "            optimizer.step()\n",
    "\n",
    "        model.eval()\n",
    "        total = correct = 0\n",
    "        with torch.no_grad():\n",
    "            for inputs, labels in test_loader:\n",
    "                inputs, labels = inputs.to(device), labels.to(device)\n",
    "                outputs = model(inputs)\n",
    "                _, predicted = torch.max(outputs.data, 1)\n",
    "                total += labels.size(0)\n",
    "                correct += (predicted == labels).sum().item()\n",
    "        accuracy = 100 * correct / total\n",
    "        accuracies.append(accuracy)  # Store accuracy for this epoch\n",
    "\n",
    "        print(f'Epoch {epoch+1}: Accuracy: {accuracy}%')\n",
    "\n",
    "    # Plotting the accuracies\n",
    "    plt.figure(figsize=(20, 5))\n",
    "    plt.plot(range(1, epochs+1), accuracies, marker='o', linestyle='-')\n",
    "    plt.title('Accuracy vs. Epoch')\n",
    "    plt.xlabel('Epoch')\n",
    "    plt.ylabel('Accuracy (%)')\n",
    "    plt.grid(True)\n",
    "    plt.xticks(range(1, epochs+1))  # Ensure x-axis labels match epoch numbers\n",
    "    plt.yticks(range(0, 101, 10))  # Setting y-axis labels from 0 to 100% with steps of 10%\n",
    "    plt.show()\n",
    "\n",
    "    return max(accuracies)  # Return the highest accuracy reached\n"
   ]
  },
  {
   "cell_type": "code",
   "execution_count": 37,
   "metadata": {},
   "outputs": [
    {
     "name": "stdout",
     "output_type": "stream",
     "text": [
      "Epoch 1: Accuracy: 28.65%\n",
      "Epoch 2: Accuracy: 30.85%\n",
      "Epoch 3: Accuracy: 33.6%\n",
      "Epoch 4: Accuracy: 34.55%\n",
      "Epoch 5: Accuracy: 35.55%\n",
      "Epoch 6: Accuracy: 36.5%\n",
      "Epoch 7: Accuracy: 36.95%\n",
      "Epoch 8: Accuracy: 37.7%\n",
      "Epoch 9: Accuracy: 38.6%\n",
      "Epoch 10: Accuracy: 39.5%\n",
      "Epoch 11: Accuracy: 40.05%\n",
      "Epoch 12: Accuracy: 39.55%\n",
      "Epoch 13: Accuracy: 40.15%\n",
      "Epoch 14: Accuracy: 40.2%\n",
      "Epoch 15: Accuracy: 40.15%\n",
      "Epoch 16: Accuracy: 41.15%\n",
      "Epoch 17: Accuracy: 41.3%\n",
      "Epoch 18: Accuracy: 41.15%\n",
      "Epoch 19: Accuracy: 42.05%\n",
      "Epoch 20: Accuracy: 42.05%\n",
      "Epoch 21: Accuracy: 41.85%\n",
      "Epoch 22: Accuracy: 42.35%\n",
      "Epoch 23: Accuracy: 43.3%\n",
      "Epoch 24: Accuracy: 43.4%\n",
      "Epoch 25: Accuracy: 43.65%\n"
     ]
    },
    {
     "data": {
      "image/png": "[encoded data removed]",
      "text/plain": [
       "<Figure size 2000x500 with 1 Axes>"
      ]
     },
     "metadata": {},
     "output_type": "display_data"
    },
    {
     "data": {
      "text/plain": [
       "43.65"
      ]
     },
     "execution_count": 37,
     "metadata": {},
     "output_type": "execute_result"
    }
   ],
   "source": [
    "train_model(model,train_loader,test_loader,device)"
   ]
  },
  {
   "cell_type": "code",
   "execution_count": null,
   "metadata": {},
   "outputs": [],
   "source": [
    "\n",
    "\n",
    "# Assuming X_train.shape[1] is defined and device is defined\n",
    "dummy_input = torch.zeros(1,X_train.shape[1]).to(device)  # Move dummy_input to the same device as the model\n",
    "model.to(device)\n",
    "\n",
    "# Visualize the model using torchviz\n",
    "model_vis = make_dot(model(dummy_input), params=dict(model.named_parameters()))\n",
    "model_vis.render(\"neural_network_visualization_mlp\", format=\"png\", view=True)\n",
    "\n",
    "# Assuming num_classes is defined\n",
    "summary(model, input_size=dummy_input.size()[1:])  # Correctly specifying input_size as a tuple\n"
   ]
  }
 ],
 "metadata": {
  "kernelspec": {
   "display_name": ".venv",
   "language": "python",
   "name": "python3"
  },
  "language_info": {
   "codemirror_mode": {
    "name": "ipython",
    "version": 3
   },
   "file_extension": ".py",
   "mimetype": "text/x-python",
   "name": "python",
   "nbconvert_exporter": "python",
   "pygments_lexer": "ipython3",
   "version": "3.11.4"
  }
 },
 "nbformat": 4,
 "nbformat_minor": 2
}
